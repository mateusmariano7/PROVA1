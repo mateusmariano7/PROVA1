{
 "cells": [
  {
   "cell_type": "code",
   "execution_count": 94,
   "id": "25826b46-0d43-40d3-8396-71eab029c2f2",
   "metadata": {},
   "outputs": [],
   "source": [
    "lista = ListaEncadeada()\n",
    "class No:\n",
    "    def __init__(self, valor):\n",
    "        self.valor = valor\n",
    "        self.proximo = None\n",
    "\n",
    "class ListaEncadeada:\n",
    "    def __init__(self):\n",
    "        self.inicio = None\n",
    "\n",
    "    def inserir(self, valor):\n",
    "        novo_no = No(valor)\n",
    "        if self.inicio is None:\n",
    "            self.inicio = novo_no\n",
    "        else:\n",
    "            atual = self.inicio\n",
    "            while atual.proximo:\n",
    "                atual = atual.proximo\n",
    "            atual.proximo = novo_no\n",
    "\n",
    "    def contar(self):\n",
    "        contador = 0\n",
    "        atual = self.inicio\n",
    "        while atual is not None:\n",
    "            contador += 1\n",
    "            atual = atual.proximo\n",
    "        return contador\n"
   ]
  },
  {
   "cell_type": "code",
   "execution_count": 98,
   "id": "92621227-d50a-494d-9c75-ba2adeb28865",
   "metadata": {},
   "outputs": [],
   "source": [
    "lista.inserir(5)\n",
    "lista.inserir(15)\n",
    "lista.inserir(25)"
   ]
  },
  {
   "cell_type": "code",
   "execution_count": 100,
   "id": "e8a90fd2-3a9d-419d-b7f6-ba2c087f7e93",
   "metadata": {},
   "outputs": [
    {
     "name": "stdout",
     "output_type": "stream",
     "text": [
      "3\n"
     ]
    }
   ],
   "source": [
    "print(lista.contar())"
   ]
  },
  {
   "cell_type": "code",
   "execution_count": null,
   "id": "2a0706d3-9b84-4b16-9338-8a88a11990e6",
   "metadata": {},
   "outputs": [],
   "source": []
  }
 ],
 "metadata": {
  "kernelspec": {
   "display_name": "Python [conda env:base] *",
   "language": "python",
   "name": "conda-base-py"
  },
  "language_info": {
   "codemirror_mode": {
    "name": "ipython",
    "version": 3
   },
   "file_extension": ".py",
   "mimetype": "text/x-python",
   "name": "python",
   "nbconvert_exporter": "python",
   "pygments_lexer": "ipython3",
   "version": "3.12.7"
  }
 },
 "nbformat": 4,
 "nbformat_minor": 5
}
